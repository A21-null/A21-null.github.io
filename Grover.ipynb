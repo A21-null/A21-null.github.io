{
  "cells": [
    {
      "cell_type": "code",
      "execution_count": 7,
      "id": "e54268e5",
      "metadata": {
        "colab": {
          "base_uri": "https://localhost:8080/"
        },
        "id": "e54268e5",
        "outputId": "3b7dd544-fb09-4ff3-f3b2-408a1441f3a8"
      },
      "outputs": [
        {
          "output_type": "stream",
          "name": "stdout",
          "text": [
            "Requirement already satisfied: numpy in /usr/local/lib/python3.11/dist-packages (1.26.4)\n",
            "Requirement already satisfied: matplotlib in /usr/local/lib/python3.11/dist-packages (3.10.0)\n",
            "Requirement already satisfied: contourpy>=1.0.1 in /usr/local/lib/python3.11/dist-packages (from matplotlib) (1.3.1)\n",
            "Requirement already satisfied: cycler>=0.10 in /usr/local/lib/python3.11/dist-packages (from matplotlib) (0.12.1)\n",
            "Requirement already satisfied: fonttools>=4.22.0 in /usr/local/lib/python3.11/dist-packages (from matplotlib) (4.56.0)\n",
            "Requirement already satisfied: kiwisolver>=1.3.1 in /usr/local/lib/python3.11/dist-packages (from matplotlib) (1.4.8)\n",
            "Requirement already satisfied: numpy>=1.23 in /usr/local/lib/python3.11/dist-packages (from matplotlib) (1.26.4)\n",
            "Requirement already satisfied: packaging>=20.0 in /usr/local/lib/python3.11/dist-packages (from matplotlib) (24.2)\n",
            "Requirement already satisfied: pillow>=8 in /usr/local/lib/python3.11/dist-packages (from matplotlib) (11.1.0)\n",
            "Requirement already satisfied: pyparsing>=2.3.1 in /usr/local/lib/python3.11/dist-packages (from matplotlib) (3.2.1)\n",
            "Requirement already satisfied: python-dateutil>=2.7 in /usr/local/lib/python3.11/dist-packages (from matplotlib) (2.8.2)\n",
            "Requirement already satisfied: six>=1.5 in /usr/local/lib/python3.11/dist-packages (from python-dateutil>=2.7->matplotlib) (1.17.0)\n",
            "Collecting qiskit\n",
            "  Downloading qiskit-1.4.0-cp39-abi3-manylinux_2_17_x86_64.manylinux2014_x86_64.whl.metadata (12 kB)\n",
            "Collecting rustworkx>=0.15.0 (from qiskit)\n",
            "  Downloading rustworkx-0.16.0-cp39-abi3-manylinux_2_17_x86_64.manylinux2014_x86_64.whl.metadata (10 kB)\n",
            "Requirement already satisfied: numpy<3,>=1.17 in /usr/local/lib/python3.11/dist-packages (from qiskit) (1.26.4)\n",
            "Requirement already satisfied: scipy>=1.5 in /usr/local/lib/python3.11/dist-packages (from qiskit) (1.13.1)\n",
            "Requirement already satisfied: sympy>=1.3 in /usr/local/lib/python3.11/dist-packages (from qiskit) (1.13.1)\n",
            "Collecting dill>=0.3 (from qiskit)\n",
            "  Downloading dill-0.3.9-py3-none-any.whl.metadata (10 kB)\n",
            "Requirement already satisfied: python-dateutil>=2.8.0 in /usr/local/lib/python3.11/dist-packages (from qiskit) (2.8.2)\n",
            "Collecting stevedore>=3.0.0 (from qiskit)\n",
            "  Downloading stevedore-5.4.1-py3-none-any.whl.metadata (2.3 kB)\n",
            "Requirement already satisfied: typing-extensions in /usr/local/lib/python3.11/dist-packages (from qiskit) (4.12.2)\n",
            "Collecting symengine<0.14,>=0.11 (from qiskit)\n",
            "  Downloading symengine-0.13.0-cp311-cp311-manylinux_2_17_x86_64.manylinux2014_x86_64.whl.metadata (1.2 kB)\n",
            "Requirement already satisfied: six>=1.5 in /usr/local/lib/python3.11/dist-packages (from python-dateutil>=2.8.0->qiskit) (1.17.0)\n",
            "Collecting pbr>=2.0.0 (from stevedore>=3.0.0->qiskit)\n",
            "  Downloading pbr-6.1.1-py2.py3-none-any.whl.metadata (3.4 kB)\n",
            "Requirement already satisfied: mpmath<1.4,>=1.1.0 in /usr/local/lib/python3.11/dist-packages (from sympy>=1.3->qiskit) (1.3.0)\n",
            "Requirement already satisfied: setuptools in /usr/local/lib/python3.11/dist-packages (from pbr>=2.0.0->stevedore>=3.0.0->qiskit) (75.1.0)\n",
            "Downloading qiskit-1.4.0-cp39-abi3-manylinux_2_17_x86_64.manylinux2014_x86_64.whl (6.7 MB)\n",
            "\u001b[2K   \u001b[90m━━━━━━━━━━━━━━━━━━━━━━━━━━━━━━━━━━━━━━━━\u001b[0m \u001b[32m6.7/6.7 MB\u001b[0m \u001b[31m41.3 MB/s\u001b[0m eta \u001b[36m0:00:00\u001b[0m\n",
            "\u001b[?25hDownloading dill-0.3.9-py3-none-any.whl (119 kB)\n",
            "\u001b[2K   \u001b[90m━━━━━━━━━━━━━━━━━━━━━━━━━━━━━━━━━━━━━━━━\u001b[0m \u001b[32m119.4/119.4 kB\u001b[0m \u001b[31m10.1 MB/s\u001b[0m eta \u001b[36m0:00:00\u001b[0m\n",
            "\u001b[?25hDownloading rustworkx-0.16.0-cp39-abi3-manylinux_2_17_x86_64.manylinux2014_x86_64.whl (2.1 MB)\n",
            "\u001b[2K   \u001b[90m━━━━━━━━━━━━━━━━━━━━━━━━━━━━━━━━━━━━━━━━\u001b[0m \u001b[32m2.1/2.1 MB\u001b[0m \u001b[31m64.1 MB/s\u001b[0m eta \u001b[36m0:00:00\u001b[0m\n",
            "\u001b[?25hDownloading stevedore-5.4.1-py3-none-any.whl (49 kB)\n",
            "\u001b[2K   \u001b[90m━━━━━━━━━━━━━━━━━━━━━━━━━━━━━━━━━━━━━━━━\u001b[0m \u001b[32m49.5/49.5 kB\u001b[0m \u001b[31m3.6 MB/s\u001b[0m eta \u001b[36m0:00:00\u001b[0m\n",
            "\u001b[?25hDownloading symengine-0.13.0-cp311-cp311-manylinux_2_17_x86_64.manylinux2014_x86_64.whl (49.7 MB)\n",
            "\u001b[2K   \u001b[90m━━━━━━━━━━━━━━━━━━━━━━━━━━━━━━━━━━━━━━━━\u001b[0m \u001b[32m49.7/49.7 MB\u001b[0m \u001b[31m8.1 MB/s\u001b[0m eta \u001b[36m0:00:00\u001b[0m\n",
            "\u001b[?25hDownloading pbr-6.1.1-py2.py3-none-any.whl (108 kB)\n",
            "\u001b[2K   \u001b[90m━━━━━━━━━━━━━━━━━━━━━━━━━━━━━━━━━━━━━━━━\u001b[0m \u001b[32m109.0/109.0 kB\u001b[0m \u001b[31m9.3 MB/s\u001b[0m eta \u001b[36m0:00:00\u001b[0m\n",
            "\u001b[?25hInstalling collected packages: symengine, rustworkx, pbr, dill, stevedore, qiskit\n",
            "Successfully installed dill-0.3.9 pbr-6.1.1 qiskit-1.4.0 rustworkx-0.16.0 stevedore-5.4.1 symengine-0.13.0\n",
            "Collecting pylatexenc\n",
            "  Downloading pylatexenc-2.10.tar.gz (162 kB)\n",
            "\u001b[2K     \u001b[90m━━━━━━━━━━━━━━━━━━━━━━━━━━━━━━━━━━━━━━━━\u001b[0m \u001b[32m162.6/162.6 kB\u001b[0m \u001b[31m3.6 MB/s\u001b[0m eta \u001b[36m0:00:00\u001b[0m\n",
            "\u001b[?25h  Preparing metadata (setup.py) ... \u001b[?25l\u001b[?25hdone\n",
            "Building wheels for collected packages: pylatexenc\n",
            "  Building wheel for pylatexenc (setup.py) ... \u001b[?25l\u001b[?25hdone\n",
            "  Created wheel for pylatexenc: filename=pylatexenc-2.10-py3-none-any.whl size=136816 sha256=b9b9d2f912cb2d784924802aeeb95e215b15fda0b3a946730edfbb868f762687\n",
            "  Stored in directory: /root/.cache/pip/wheels/b1/7a/33/9fdd892f784ed4afda62b685ae3703adf4c91aa0f524c28f03\n",
            "Successfully built pylatexenc\n",
            "Installing collected packages: pylatexenc\n",
            "Successfully installed pylatexenc-2.10\n"
          ]
        }
      ],
      "source": [
        "!pip install numpy\n",
        "!pip install matplotlib\n",
        "!pip install qiskit\n",
        "!pip install pylatexenc"
      ]
    },
    {
      "cell_type": "markdown",
      "id": "729dfa19",
      "metadata": {
        "id": "729dfa19"
      },
      "source": [
        "<img src=\"https://github.com/JuanSanSu/TallerUSC_Grover/blob/main/logos/IGFAETalentQ.png?raw=1\" align=left width='400px'/>\n",
        "<br>\n",
        "\n",
        "\n",
        "$ \\newcommand{\\bra}[1]{\\langle #1|} $\n",
        "$ \\newcommand{\\ket}[1]{|#1\\rangle} $\n",
        "$ \\newcommand{\\i}{{\\color{blue} i}} $\n",
        "$ \\newcommand{\\Hil}{{\\mathbb H}} $"
      ]
    },
    {
      "cell_type": "markdown",
      "id": "64c506dd",
      "metadata": {
        "id": "64c506dd"
      },
      "source": [
        "\n",
        "# Algoritmo de Grover\n",
        "\n",
        "\n",
        "Juan Santos Suárez\n",
        "   \n",
        "juansantos.suarez@usc.es"
      ]
    },
    {
      "cell_type": "markdown",
      "id": "2ce93b8f",
      "metadata": {
        "id": "2ce93b8f"
      },
      "source": [
        "# Introducción"
      ]
    },
    {
      "cell_type": "markdown",
      "id": "22b44c9e",
      "metadata": {
        "id": "22b44c9e"
      },
      "source": [
        "Un tipo de problema computacional muy común es la búsqueda de información. Supongamos que tenemos una base de datos estructurada de $N$ elementos, como la siguiente, que está ordenada en orden alfabético.\n",
        "\n",
        "| Nombre  | Número |\n",
        "| ---     | ---    |\n",
        "| Balbina | 31     |\n",
        "| Carmen  | 27     |\n",
        "| Ernesto | 42     |\n",
        "| Noel    | 113    |\n",
        "| Omar    | 6      |"
      ]
    },
    {
      "cell_type": "markdown",
      "id": "02e2bb54",
      "metadata": {
        "id": "02e2bb54"
      },
      "source": [
        "Si queremos buscar qué numero tiene Carmen, podemos aprovechar el orden para encontrar su entrada de forma rápida, en particular, en $\\mathcal{O}\\left(\\log\\left(N\\right)\\right)$ consultas."
      ]
    },
    {
      "cell_type": "markdown",
      "id": "9bdd610a",
      "metadata": {
        "id": "9bdd610a"
      },
      "source": [
        "Sin embargo, si queremos buscar quién tiene un número concreto como el $113$ en la lista anterior, lo mejor que podemos hacer clásicamente es consultar elementos de forma aleatoria hasta conseguir encontrar el que buscamos tras, en promedio, $\\frac{N}{2}$ consultas ($\\mathcal{O}\\left(N\\right)$)."
      ]
    },
    {
      "cell_type": "markdown",
      "id": "955f77b3",
      "metadata": {
        "id": "955f77b3"
      },
      "source": [
        "En computación cuántica es posible aprovechar la superposición y la interferencia de forma que, utilizando el **algoritmo de Grover**, se encuentre el elemento buscado en $\\mathcal{O}\\left(\\sqrt{N}\\right)$ consultas.\n",
        "\n"
      ]
    },
    {
      "cell_type": "markdown",
      "id": "eec55c10",
      "metadata": {
        "id": "eec55c10"
      },
      "source": [
        "Para hacerlo, será necesario codificar de alguna manera la base de datos en un estado cuántico\n",
        "\\begin{equation*}\n",
        "\\ket{s} = \\frac{1}{\\sqrt{5}} \\left(\\ket{\\text{Balbina}}\\ket{31} + \\ket{\\text{Carmen}}\\ket{27} +\\ket{\\text{Ernesto}}\\ket{42} + \\ket{\\text{Noel}}\\ket{113} + \\ket{\\text{Omar}}\\ket{6}\\right),\n",
        "\\end{equation*}"
      ]
    },
    {
      "cell_type": "markdown",
      "id": "083de276",
      "metadata": {
        "id": "083de276"
      },
      "source": [
        "y ser capaz de implementar un circuito cuántico $G_\\textit{w}$ que aumente significativamente la probabilidad de medir el valor $\\textit{w}$ en el registro de búsqueda, es decir,\n",
        "\n",
        "$$\n",
        "G_{\\textit{w}=113}\\ket{s} \\approx \\ket{\\text{Noel}}\\ket{113}\n",
        "$$"
      ]
    },
    {
      "cell_type": "markdown",
      "id": "75cab05d",
      "metadata": {
        "id": "75cab05d"
      },
      "source": [
        "# El Algoritmo de Grover"
      ]
    },
    {
      "cell_type": "markdown",
      "id": "c10713e1",
      "metadata": {
        "id": "c10713e1"
      },
      "source": [
        "## La “base de datos”"
      ]
    },
    {
      "cell_type": "markdown",
      "id": "4f8f39b2",
      "metadata": {
        "id": "4f8f39b2"
      },
      "source": [
        "En general, la creación de un estado $\\ket{s}$ como el anterior es un problema complicado que no vamos a abordar en esta clase.\n",
        "\n",
        "Vamos a suponer por simplicidad que nuestra base de datos está formada por todas las cadenas de $n$ bits. Por ejemplo, en el caso de $n=2$, tendremos los elementos $00$, $01$, $10$ y $11$, que en decimal representan los números $0$, $1$, $2$ y $3$. Esto quiere decir que habrá un total de $N=2^n$ elementos."
      ]
    },
    {
      "cell_type": "markdown",
      "id": "e5d8a21d",
      "metadata": {
        "id": "e5d8a21d"
      },
      "source": [
        "Codificar esta base de datos en un estado cuántico es muy sencillo, ya que podemos identificar cada elemento $x$ con un estado $\\ket{x}$ de la base  computacional (por ejemplo, el elemento $00$ con el estado $\\ket{00}$). Así, podremos representar la base de datos con la superposición uniforme.\n",
        "\n",
        "\\begin{equation*}\n",
        "\\ket{s} = H^{\\otimes n}\\ket{0} = \\frac{1}{\\sqrt{N}}\\sum_{x=0}^{N-1} \\ket{x}.\n",
        "\\end{equation*}"
      ]
    },
    {
      "cell_type": "code",
      "execution_count": 12,
      "id": "e033462e",
      "metadata": {
        "id": "e033462e"
      },
      "outputs": [],
      "source": [
        "import numpy as np\n",
        "import matplotlib.pyplot as plt\n",
        "from qiskit import QuantumCircuit\n",
        "from qiskit.quantum_info import Statevector"
      ]
    },
    {
      "cell_type": "code",
      "execution_count": 14,
      "id": "931a5cf6",
      "metadata": {
        "colab": {
          "base_uri": "https://localhost:8080/",
          "height": 320
        },
        "id": "931a5cf6",
        "outputId": "4f49396d-f0b0-4e43-fa40-45156cfb2a07"
      },
      "outputs": [
        {
          "output_type": "execute_result",
          "data": {
            "text/plain": [
              "<Figure size 287.496x367.889 with 1 Axes>"
            ],
            "image/png": "[encoded data removed]"
          },
          "metadata": {},
          "execution_count": 14
        }
      ],
      "source": [
        "# Creamos nuestra \"base de datos\"\n",
        "# Elegimos n\n",
        "n = 4\n",
        "\n",
        "# Definimos el circuito con n cúbits y n bits\n",
        "s_circuit = QuantumCircuit(n)\n",
        "\n",
        "# Aplicamos puertas H en todos los cúbits\n",
        "s_circuit.h(range(n))\n",
        "s_circuit.barrier()\n",
        "\n",
        "# Dibujamos el circuito\n",
        "s_circuit.draw('mpl')\n",
        "#Statevector(s_circuit).draw('latex')"
      ]
    },
    {
      "cell_type": "markdown",
      "id": "8605bc16",
      "metadata": {
        "id": "8605bc16"
      },
      "source": [
        "## Las soluciones"
      ]
    },
    {
      "cell_type": "markdown",
      "id": "3a2fb055",
      "metadata": {
        "id": "3a2fb055"
      },
      "source": [
        "Consideremos un conjunto $W=\\left\\{\\textit{w}_i\\right\\}_{i=1}^d$ de $d$ elementos que satisfacen ciertos criterios de búsqueda. Para identificar los elementos de $W$ introducimos una función $f_\\textit{w}(x)$ definida como\n",
        "\n",
        "\\begin{equation}\n",
        "f_\\textit{w}(x) = \\left\\{ \\begin{array}{lcc}\n",
        "             1 &   si  & x \\in W \\\\\n",
        "              0 &  si & x \\not\\in W \\end{array}\n",
        "   \\right..\n",
        "\\end{equation}"
      ]
    },
    {
      "cell_type": "markdown",
      "id": "57c75354",
      "metadata": {
        "id": "57c75354"
      },
      "source": [
        "En lenguaje coloquial, $f_\\textit{w}$ es la función “reconocer si el registro $x$ está en $W$”. Al igual que cuando buscas una aguja en un pajar, saber cómo es una aguja no te ayuda a encontrarla, sólo a reconocerla si te encuentras con ella."
      ]
    },
    {
      "cell_type": "markdown",
      "id": "1fd81bdd",
      "metadata": {
        "id": "1fd81bdd"
      },
      "source": [
        "Cuánticamente, definimos el estado buscado como un vector unitario compuesto por todos los elementos que son solución,\n",
        "\\begin{equation*}\n",
        "\\ket{\\textit{w}}=\\frac{1}{\\sqrt{d}}\\sum_{x \\in W}\\ket{x}.\n",
        "\\end{equation*}"
      ]
    },
    {
      "cell_type": "markdown",
      "id": "3afb51c4",
      "metadata": {
        "id": "3afb51c4"
      },
      "source": [
        " Si consideramos $\\ket{s^{\\prime}} = \\frac{1}{\\sqrt{N-d}} \\sum_{x \\notin W} \\ket{x}$, es decir, un vector unitario compuesto por todos los elementos que no son solución, podemos reescribir $\\ket{s}$ de una forma más conveniente\n",
        "\n",
        "\\begin{equation*}\n",
        "\\ket{s} = \\frac{1}{\\sqrt{N}}\\sum_x \\ket{x} = \\frac{1}{\\sqrt{N}}\\left(\\sum_{x \\in W} \\ket{x} + \\sum_{x \\not\\in W} \\ket{x} \\right) = \\sqrt{\\frac{d}{N}} \\ket{\\textit{w}} + \\sqrt{\\frac{N-d}{N}} \\ket{s^\\prime}.\n",
        "\\end{equation*}"
      ]
    },
    {
      "cell_type": "markdown",
      "id": "673dbfdb",
      "metadata": {
        "id": "673dbfdb"
      },
      "source": [
        "Esto quiere decir que podemos pensar nuestro estado $\\ket{s}$ como un vector caracterizado por el ángulo $\\theta = \\arcsin \\sqrt{\\frac{d}{N}}$ en el plano $\\left\\{\\ket{s^\\prime}, \\ket{\\textit{w}}\\right\\}$,\n",
        "\n",
        "\\begin{equation*}\n",
        "\\ket{s} = \\sin{\\theta}\\ket{\\textit{w}} + \\cos{\\theta}\\ket{s^\\prime}.\n",
        "\\end{equation*}"
      ]
    },
    {
      "cell_type": "markdown",
      "id": "681b92f3",
      "metadata": {
        "id": "681b92f3"
      },
      "source": [
        "<img src=\"https://github.com/JuanSanSu/TallerUSC_Grover/blob/main/images/Grover1.png?raw=1\">"
      ]
    },
    {
      "cell_type": "markdown",
      "id": "a7c7f610",
      "metadata": {
        "id": "a7c7f610"
      },
      "source": [
        "La idea del algoritmo de Grover es transformar el estado $\\ket{s}$ aumentando su proyección sobre el estado $\\ket{\\textit{w}}$ o, lo que es lo mismo, encontrar un operador $G$ que efectúe una rotación en este plano."
      ]
    },
    {
      "cell_type": "markdown",
      "id": "101acdf3",
      "metadata": {
        "id": "101acdf3"
      },
      "source": [
        "## El Oráculo"
      ]
    },
    {
      "cell_type": "markdown",
      "id": "92344446",
      "metadata": {
        "id": "92344446"
      },
      "source": [
        "Ahora necesitamos que de alguna manera la información de la función $f_\\textit{w}$ afecte a un estado cuántico. La manera de hacer esto es a través de un *oráculo* $U_\\textit{w}$ que cambie el signo de la componente asociada a $\\ket{\\textit{w}}$ y mantenga igual la asociada a $\\ket{s^\\prime}$.\n",
        "\n",
        "\\begin{equation*}\n",
        "U_{\\textit{w}}\\ket{x} = \\left(-1\\right)^{f_\\textit{w}(x)}\\ket{x}.\n",
        "\\end{equation*}"
      ]
    },
    {
      "cell_type": "markdown",
      "id": "6f2f86ca",
      "metadata": {
        "id": "6f2f86ca"
      },
      "source": [
        "La acción del oráculo actuando sobre la superposición uniforme $\\ket{s}$ es,\n",
        "\\begin{equation*}\n",
        "U_\\textit{w}\\ket{s} = -\\sqrt{\\frac{d}{N}} \\ket{\\textit{w}} + \\sqrt{\\frac{N-d}{N}} \\ket{s^\\prime}\n",
        "\\end{equation*}"
      ]
    },
    {
      "cell_type": "markdown",
      "id": "c43b5106",
      "metadata": {
        "id": "c43b5106"
      },
      "source": [
        "Este cambio de signo no tiene análogo clásico y puede parecer inútil ya que no afecta a la distribución de probabilidad medida. Sin embargo, veremos que es crucial.\n",
        "\n",
        "<img src=\"https://github.com/JuanSanSu/TallerUSC_Grover/blob/main/images/Grover2.png?raw=1\">"
      ]
    },
    {
      "cell_type": "markdown",
      "id": "2c073da9",
      "metadata": {
        "id": "2c073da9"
      },
      "source": [
        "## Reflexión con respecto a un estado"
      ]
    },
    {
      "cell_type": "markdown",
      "id": "9d7a46f9",
      "metadata": {
        "id": "9d7a46f9"
      },
      "source": [
        "De forma genérica, dado un estado $\\ket{\\psi} = V\\ket{0}$, el operador $U_\\psi$ que refleja la componente paralela a $\\ket{\\psi}$, viene dado por\n",
        "    \n",
        "\\begin{equation*}\n",
        "U_{\\psi} = \\mathbb{1} - 2 \\ket{\\psi}\\bra{\\psi} = \\mathbb{1} - 2 V\\ket{0}\\bra{0}V^\\dagger = V(\\mathbb{1} - 2 \\ket{0}\\bra{0})V^\\dagger=VU_0V^\\dagger\n",
        "\\end{equation*}"
      ]
    },
    {
      "cell_type": "markdown",
      "id": "6cd74dd1",
      "metadata": {
        "id": "6cd74dd1"
      },
      "source": [
        "Podemos comprobarlo viendo que la acción de $U_\\psi$ sobre un estado arbitrario $\\ket{u} = u_{\\|}\\ket{\\psi} + u_{\\perp} \\ket{\\psi_\\perp}$  deja intacta la componente perpendicular $u_{\\perp}$ pero <i>invierte</i> la paralela $u_{\\|}$\n",
        "\n",
        "\\begin{gather*}\n",
        " U_\\psi \\ket{u} &=& \\big( \\mathbb{1}- 2 \\ket{\\psi}\\bra{\\psi} \\big) \\big( u_{\\|} \\ket{\\psi} + u_{\\perp} \\ket{\\psi_\\perp} \\big) \\\\\n",
        "\\rule{0mm}{6mm} &=& u_\\| \\big( \\ket{\\psi} - 2\\ket{\\psi} \\big)  + u_\\perp \\big( \\ket{\\psi_\\perp}- 0\\big) \\\\\n",
        "\\rule{0mm}{6mm} &=&  - u_\\|\\ket{\\psi} + u_\\perp  \\ket{\\psi_\\perp}\n",
        " \\end{gather*}\n",
        "\n",
        "donde hemos usado que $\\left\\langle\\psi|\\psi_\\perp\\right\\rangle = 0$. Es evidente que $U_{\\psi_\\perp} = -  U_{\\psi} $    "
      ]
    },
    {
      "cell_type": "markdown",
      "id": "fbdecc17",
      "metadata": {
        "id": "fbdecc17"
      },
      "source": [
        "<div class=\"alert alert-block alert-success\">\n",
        "<b> Ejercicio: </b>    \n",
        "Comprueba con lápiz y papel que $U_{0} \\equiv \\mathbb{1} - 2 \\ket{0}\\bra{0}$ se puede implementar con el circuito\n",
        "    \n",
        "<div style=\"text-align: center;\">\n",
        "    <img src=\"https://github.com/JuanSanSu/TallerUSC_Grover/blob/main/images/Reflector.png?raw=1\" width=\"400px\"/>\n",
        "</div>\n",
        "    \n",
        "</div>"
      ]
    },
    {
      "cell_type": "markdown",
      "id": "84b7252f",
      "metadata": {
        "id": "84b7252f"
      },
      "source": [
        "El resultado de este ejercicio permite construir el oráculo $U_\\textit{w}=\\prod_i^d U_{\\textit{w}_i}$ de manera sencilla en el caso de conocer $\\ket{\\textit{w}_i}=V_i\\ket{0}$. Como cada, $\\textit{w}_i$ es una única *bitstring*, es trivial que el operador $V$ consistirá solo en aplicar puertas $X$.\n"
      ]
    },
    {
      "cell_type": "code",
      "execution_count": 19,
      "id": "94cebd04",
      "metadata": {
        "id": "94cebd04"
      },
      "outputs": [],
      "source": [
        "# Definimos la lista de elementos w que queramos\n",
        "w_list = ['0000', '1111']\n",
        "d = len(w_list)"
      ]
    },
    {
      "cell_type": "markdown",
      "id": "5102c2f8",
      "metadata": {
        "id": "5102c2f8"
      },
      "source": [
        "<div class=\"alert alert-block alert-success\">\n",
        "<b> Ejercicio: </b>    Completa el código que implementa el oráculo\n",
        "\n",
        "</div>"
      ]
    },
    {
      "cell_type": "code",
      "execution_count": 21,
      "id": "af6dadcd",
      "metadata": {
        "colab": {
          "base_uri": "https://localhost:8080/",
          "height": 320
        },
        "id": "af6dadcd",
        "outputId": "ca7d4802-ecce-463f-c6c6-5ec7633a6f94"
      },
      "outputs": [
        {
          "output_type": "execute_result",
          "data": {
            "text/plain": [
              "<Figure size 454.719x367.889 with 1 Axes>"
            ],
            "image/png": "[encoded data removed]"
          },
          "metadata": {},
          "execution_count": 21
        }
      ],
      "source": [
        "from qiskit.circuit.library import ZGate\n",
        "# Creamos el oráculo que marque el estado w.\n",
        "U_w_circuit = QuantumCircuit(n)\n",
        "\n",
        "# Sólo tenemos que añadir puertas X en los cúbits en los que w valga 0 ya que cuando vale 1 se cancelan.\n",
        "for k in range(d):\n",
        "    #### ========================================\n",
        "    # Escribe tu solución aquí.\n",
        "    w = w_list[k]\n",
        "    #### ========================================\n",
        "    for i in range(n-1, -1, -1): # Recorremos los cúbits de abajo a arriba de acuerdo al convenio que usa Qiskit.\n",
        "    #### ========================================\n",
        "    # Escribe tu solución aquí.\n",
        "      if w[i]=='0':\n",
        "        U_w_circuit.x(i)\n",
        "\n",
        "    #### ========================================\n",
        "\n",
        "    # Ahora tenemos que añadir una puerta controlada Z con todos los cúbits de entrada menos el último.\n",
        "    # Como esta instrucción no está disponible como método del objeto QuantumCircuit, la añadimos importando la puerta ZGate y llamando\n",
        "    # al método control de la puerta ZGate con los cúbits de control como argumento.\n",
        "    U_w_circuit.append(ZGate().control(n-1), range(n))\n",
        "\n",
        "    # Añadimos de nuevo puertas X\n",
        "    for i in range(n-1, -1, -1): # Recorremos los cúbits de abajo a arriba de acuerdo al convenio que usa Qiskit.\n",
        "    #### ========================================\n",
        "    # Escribe tu solución aquí.\n",
        "      if w[i]=='0':\n",
        "        U_w_circuit.x(i)\n",
        "\n",
        "    #### ========================================\n",
        "U_w_circuit.draw('mpl')"
      ]
    },
    {
      "cell_type": "markdown",
      "id": "b151f555",
      "metadata": {
        "id": "b151f555"
      },
      "source": [
        "Veamos que la matriz que representa este circuito sólamente cambia el signo a la componente en $\\ket{\\textit{w}}$"
      ]
    },
    {
      "cell_type": "code",
      "execution_count": null,
      "id": "4f1b380e",
      "metadata": {
        "id": "4f1b380e"
      },
      "outputs": [],
      "source": [
        "from qiskit.quantum_info import Operator\n",
        "\n",
        "Operator(U_w_circuit).draw('latex', max_size=16)"
      ]
    },
    {
      "cell_type": "markdown",
      "id": "5e8b6b76",
      "metadata": {
        "id": "5e8b6b76"
      },
      "source": [
        "Podemos componer este circuito con el que preparaba $\\ket{s}$ para tener $U_\\textit{w} \\ket{s}$."
      ]
    },
    {
      "cell_type": "code",
      "execution_count": null,
      "id": "2a1cf402",
      "metadata": {
        "id": "2a1cf402"
      },
      "outputs": [],
      "source": [
        "Uw_s_circuit = s_circuit.compose(U_w_circuit)\n",
        "Uw_s_circuit.barrier()\n",
        "Uw_s_circuit.draw('mpl')"
      ]
    },
    {
      "cell_type": "markdown",
      "id": "6c86d3f9",
      "metadata": {
        "id": "6c86d3f9"
      },
      "source": [
        "Y ver que, efectivamente, su acción es la esperada."
      ]
    },
    {
      "cell_type": "code",
      "execution_count": null,
      "id": "5e02c03f",
      "metadata": {
        "id": "5e02c03f"
      },
      "outputs": [],
      "source": [
        "from qiskit.quantum_info import Statevector\n",
        "\n",
        "Statevector(Uw_s_circuit).draw('latex', max_size=16)"
      ]
    },
    {
      "cell_type": "markdown",
      "id": "fa4a3194",
      "metadata": {
        "id": "fa4a3194"
      },
      "source": [
        "<div class=\"alert alert-block alert-warning\">\n",
        "Nota: Al utilizar las clases <code>Statevector</code> y <code>Operator</code>, estamos simulando clásicamente el circuito, y estamos extrayendo <em>toda</em> la información del sistema cuántico. Evidentemente, la complejidad de esta simulación es exponencial en $n$, por lo que no se podrá hacer para circuitos muy grandes.\n",
        "</div>\n"
      ]
    },
    {
      "cell_type": "markdown",
      "id": "996ca171",
      "metadata": {
        "id": "996ca171"
      },
      "source": [
        "Hasta este punto, a efectos prácticos, hemos sido capaces de “marcar” el estado $\\ket{\\textit{w}}$. El problema es que este marcaje se ha hecho a través de una fase de la cual no podemos extraer información con medidas.\n",
        "\n",
        "Es necesario traducir este cambio de fase en una amplificación de la amplitud de probabilidad."
      ]
    },
    {
      "cell_type": "markdown",
      "id": "030b626d",
      "metadata": {
        "id": "030b626d"
      },
      "source": [
        "## El Operador de Difusión"
      ]
    },
    {
      "cell_type": "markdown",
      "id": "47b4d27b",
      "metadata": {
        "id": "47b4d27b"
      },
      "source": [
        "Viendo la figura anterior, resulta sencillo ver que aplicando una reflexión en torno al estado inicial $\\ket{s}$, tendremos el trabajo hecho. Este operador $D$, conocido como **difusor de Grover** debe de invertir las componentes perpendiculares a $\\ket{s}$, es decir,  \n",
        "\n",
        "$$D = U_{s_{\\perp}}=-U_s=-\\mathbb{1} + 2 \\ket{s}\\bra{s} = -H^{\\otimes n}\\big(\\mathbb{1} - 2 \\ket{0}\\bra{0} \\big)H^{\\otimes n} = -H^{\\otimes n}U_{0}H^{\\otimes n}.$$"
      ]
    },
    {
      "cell_type": "markdown",
      "id": "f4eaa6eb",
      "metadata": {
        "id": "f4eaa6eb"
      },
      "source": [
        "<div class=\"alert alert-block alert-info\">\n",
        "Nótese que sabemos escribir como un circuito cuántico el operador $-D=U_s$. Dado que el signo menos es, una fase global, es no físico y podemos considerar $D \\sim -D$. En ciertas aplicaciones que no veremos en este curso, este signo puede llegar a ser relevante.\n",
        "\n",
        "</div>"
      ]
    },
    {
      "cell_type": "markdown",
      "id": "0ff2e260",
      "metadata": {
        "id": "0ff2e260"
      },
      "source": [
        "Podemos ver que, efectivamente, el nuevo estado $-U_sU_\\textit{w} \\ket{s}$ tiene mayor proyección sobre $\\ket{s}$"
      ]
    },
    {
      "cell_type": "markdown",
      "id": "e8f0374f",
      "metadata": {
        "id": "e8f0374f"
      },
      "source": [
        "<img src=\"https://github.com/JuanSanSu/TallerUSC_Grover/blob/main/images/Grover3.png?raw=1\">"
      ]
    },
    {
      "cell_type": "markdown",
      "id": "8f1a033a",
      "metadata": {
        "id": "8f1a033a"
      },
      "source": [
        "<div class=\"alert alert-block alert-success\">\n",
        "<b> Ejercicio: </b>    Completa el código que implementa el operador $D$.\n",
        "\n",
        "</div>"
      ]
    },
    {
      "cell_type": "code",
      "execution_count": null,
      "id": "def3a186",
      "metadata": {
        "id": "def3a186"
      },
      "outputs": [],
      "source": [
        "# Creamos el circuito que implementa -D\n",
        "diffusor_circuit = QuantumCircuit(n)\n",
        "\n",
        "#### ========================================\n",
        "# Escribe tu solución aquí.\n",
        "\n",
        "\n",
        "\n",
        "\n",
        "#### ========================================\n",
        "\n",
        "diffusor_circuit.draw('mpl')"
      ]
    },
    {
      "cell_type": "code",
      "execution_count": null,
      "id": "cc1eb2c9",
      "metadata": {
        "id": "cc1eb2c9"
      },
      "outputs": [],
      "source": [
        "Operator(diffusor_circuit).draw('latex', max_size=16)"
      ]
    },
    {
      "cell_type": "markdown",
      "id": "430315d1",
      "metadata": {
        "id": "430315d1"
      },
      "source": [
        "Componemos el circuito completo"
      ]
    },
    {
      "cell_type": "code",
      "execution_count": null,
      "id": "bb42fa9c",
      "metadata": {
        "id": "bb42fa9c"
      },
      "outputs": [],
      "source": [
        "# Componemos el circuito que implementa una iteración de Grover.\n",
        "grover_circuit = Uw_s_circuit.compose(diffusor_circuit)\n",
        "\n",
        "# Añadimos medidas en todos los qubits y un registro clásico para almacenar los resultados.\n",
        "grover_circuit.measure_all()\n",
        "grover_circuit.draw('mpl')"
      ]
    },
    {
      "cell_type": "markdown",
      "id": "3e2a4393",
      "metadata": {
        "id": "3e2a4393"
      },
      "source": [
        "Qiskit nos permite convertir circuitos a puertas, así que podemos hacerlo de manera más compacta"
      ]
    },
    {
      "cell_type": "code",
      "execution_count": null,
      "id": "a111c835",
      "metadata": {
        "id": "a111c835"
      },
      "outputs": [],
      "source": [
        "U_w = U_w_circuit.to_gate()\n",
        "U_w.name = \"$U_w$\"\n",
        "U_s = diffusor_circuit.to_gate()\n",
        "U_s.name = \"$U_s$\""
      ]
    },
    {
      "cell_type": "code",
      "execution_count": null,
      "id": "2192a18f",
      "metadata": {
        "id": "2192a18f"
      },
      "outputs": [],
      "source": [
        "# De forma más compacta\n",
        "grover_circuit = s_circuit.copy()\n",
        "grover_circuit.append(U_w, range(n))\n",
        "grover_circuit.append(U_s, range(n))\n",
        "\n",
        "# Almacenamos el vector de estado final. Esto hay que hacerlo antes de añadir medidas clásicas.\n",
        "grover_statevector = Statevector(grover_circuit)\n",
        "\n",
        "grover_circuit.measure_all()\n",
        "grover_circuit.draw('mpl')"
      ]
    },
    {
      "cell_type": "markdown",
      "id": "c91d7920",
      "metadata": {
        "id": "c91d7920"
      },
      "source": [
        "Podemos simular su resultado para ver que efectivamente el algoritmo funciona como esperamos."
      ]
    },
    {
      "cell_type": "code",
      "execution_count": null,
      "id": "8a8ffe21",
      "metadata": {
        "id": "8a8ffe21"
      },
      "outputs": [],
      "source": [
        "grover_statevector.draw('latex', max_size=16)"
      ]
    },
    {
      "cell_type": "markdown",
      "id": "32f78e5c",
      "metadata": {
        "id": "32f78e5c"
      },
      "source": [
        "O, utilizando medidas"
      ]
    },
    {
      "cell_type": "code",
      "execution_count": null,
      "id": "8d108390",
      "metadata": {
        "id": "8d108390"
      },
      "outputs": [],
      "source": [
        "from qiskit.primitives import StatevectorSampler\n",
        "from qiskit.visualization import plot_histogram\n",
        "# Elegimos cuántas medidas hacer\n",
        "shots = 8192\n",
        "# Definimos el Sampler, esto es, la manera de ejecutar el circuito para sacar el contaje al medir cada estado.\n",
        "# En este caso vamos a utilizar el StatevectorSampler, que simula clásicamente el circuito, pero aquí podríamos por ejemplo llamar a un\n",
        "# ordenador cuántico real.\n",
        "sampler = StatevectorSampler()\n",
        "job = sampler.run([grover_circuit], shots=shots) # sampler.run([lista_de_circuitos], shots=número_de_shots)\n",
        "counts = job.result()[0].data.meas.get_counts()  #job.result()[índice_del_circuito].data.nombre_del_registro.get_counts()\n",
        "# counts es un diccionario formado como {'valor_medido': veces_medido}. Podemos hacer un histograma con la utilidad plot_histogram\n",
        "plot_histogram(counts)"
      ]
    },
    {
      "cell_type": "markdown",
      "id": "09511a49",
      "metadata": {
        "id": "09511a49"
      },
      "source": [
        "# Amplificación de Amplitud"
      ]
    },
    {
      "cell_type": "markdown",
      "id": "15b00e44",
      "metadata": {
        "id": "15b00e44"
      },
      "source": [
        "Hemos conseguido aumentar la probabilidad de medir el estado buscado. Pero, ¿es suficiente para considerar que el problema está resuelto? ¿Podemos mejorar el resultado?\n",
        "\n",
        "La clave del negocio consiste en darse cuenta de que el operador $G=-U_sU_\\textit{w}$ es en realidad, como se puede ver gráficamente, una rotación de un ángulo $2\\theta$.\n",
        "\n",
        "$$G=\\begin{pmatrix}\n",
        "\\cos{2\\theta} & \\sin{2\\theta}\\\\\n",
        "-\\sin{2\\theta} & \\cos{2\\theta}\n",
        "\\end{pmatrix}.$$"
      ]
    },
    {
      "cell_type": "markdown",
      "id": "ad6bb9a2",
      "metadata": {
        "id": "ad6bb9a2"
      },
      "source": [
        "<details>\n",
        "    <summary><p style=\"color:blue\"> <b>Demostración (hacer click)</b> </p></summary>\n",
        "    \n",
        "Por inducción, tras aplicar el operador de Grover $k$ veces, tendremos\n",
        "    \n",
        "\\begin{align*}\n",
        "G^k\\ket{s} & = &a_k\\ket{w} + b_k \\ket{s^\\prime} \\\\\n",
        "&=& -U_sU_w\\left(a_{k-1}\\ket{w} + b_{k-1} \\ket{s^\\prime}\\right) \\\\\n",
        "&=& \\left(-\\mathbb{1} + 2 \\ket{s}\\bra{s}\\right)\\left(-a_{k-1}\\ket{w} + b_{k-1}\\ket{s^\\prime}\\right)\\\\\n",
        "&=& \\left(a_{k-1}\\ket{w} - b_{k-1}\\ket{s^\\prime}\\right) + 2\\ket{s} \\left(-a_{k-1}\\left\\langle s | w\\right\\rangle+b_{k-1}\\left\\langle s | s^\\prime \\right\\rangle\\right) \\\\\n",
        "&=& a_{k-1}\\ket{w} - b_{k-1}\\ket{s^\\prime} + 2\\left(\\frac{1}{\\sqrt{N}}\\ket{w} + \\sqrt{\\frac{N-1}{N}}\\ket{s^\\prime}\\right) \\left(-a_{k-1}\\frac{1}{\\sqrt{N}}+b_{k-1}\\sqrt{\\frac{N-1}{N}}\\right) \\\\\n",
        "&=&\\left(a_{k-1} - \\frac{2}{N} a_{k-1} + 2\\frac{\\sqrt{N-1}}{N}\\right)\\ket{w} + \\left(b_{k-1} - 2\\frac{\\sqrt{N-1}}{N}a_{k-1} + 2\\frac{N-1}{N}b_{k-1}\\right)\\ket{s^\\prime}.\n",
        "\\end{align*}\n",
        "    \n",
        "Agrupando términos, esta ecuación se puede escribir en forma matricial como\n",
        "\n",
        "$$\n",
        "\\begin{pmatrix}\n",
        "a_k\\\\\n",
        "b_k\n",
        "\\end{pmatrix}\n",
        "=\n",
        "\\begin{pmatrix}\n",
        "\\frac{N-2}{N} & 2\\frac{\\sqrt{N-1}}{N}\\\\\n",
        "-2\\frac{\\sqrt{N-1}}{N} & \\frac{N-2}{N}\n",
        "\\end{pmatrix}\\begin{pmatrix}\n",
        "a_{k-1}\\\\\n",
        "b_{k-1}\n",
        "\\end{pmatrix}.\n",
        "$$\n",
        "    \n",
        "Es sencillo ver que esta matriz tiene determinante unidad, es decir, ha de ser una matriz de rotación\n",
        "    \n",
        "$$\\text{det}(G)=\\frac{\\left(N-2\\right)^2}{N^2} + 4\\frac{N-1}{N^2} = \\frac{N^2 - 4N + 4}{N^2} + \\frac{4N-4}{N^2} = 1$$\n",
        "    \n",
        "Recordando\n",
        "    \n",
        "$$\\sin{\\theta} = \\frac{1}{\\sqrt{N}}, \\quad \\cos{\\theta}=\\sqrt{\\frac{N-1}{N}}$$\n",
        "$$\\frac{N-2}{N}=\\cos^2{\\theta} - \\sin^2{\\theta} = \\cos{2\\theta}$$\n",
        "$$2\\frac{\\sqrt{N-1}}{N}=2\\sin{\\theta}\\cos{\\theta} = \\sin{2\\theta}$$\n",
        "    \n",
        "se llega a\n",
        "    \n",
        "$$G=\\begin{pmatrix}\n",
        "\\cos{2\\theta} & \\sin{2\\theta}\\\\\n",
        "-\\sin{2\\theta} & \\cos{2\\theta}\n",
        "\\end{pmatrix}.$$\n",
        "</details>\n",
        "\n"
      ]
    },
    {
      "cell_type": "markdown",
      "id": "ccae81f3",
      "metadata": {
        "id": "ccae81f3"
      },
      "source": [
        "Al identificar $G$ como una matriz de rotación, resulta claro que su acción sobre cualquier estado será rotarlo en el plano $\\left\\{\\ket{\\textit{w}}, \\ket{s^\\prime}\\right\\}$,\n",
        "\n",
        "$$G^k\\ket{s} = \\sin{\\left(\\left(2k+1\\right)\\theta\\right)}\\ket{\\textit{w}} + \\cos{\\left(\\left(2k+1\\right)\\theta\\right)}\\ket{s^\\prime}.$$"
      ]
    },
    {
      "cell_type": "markdown",
      "id": "0c0bcf3a",
      "metadata": {
        "id": "0c0bcf3a"
      },
      "source": [
        "Nos interesa saber cuál es el número de veces que hay que aplicar el operador de Grover para maximizar la probabilidad de medir $\\ket{\\textit{w}}$. Esto es, maximizar la cantidad\n",
        "\n",
        "$$P_{\\textit{w},k}=\\sin^2\\left[\\left(2k+1\\right)\\theta\\right].$$"
      ]
    },
    {
      "cell_type": "markdown",
      "id": "05615bff",
      "metadata": {
        "id": "05615bff"
      },
      "source": [
        "Si $k$ fuese un número real, es evidente que el resultado sería $k=\\frac{\\pi}{4\\theta}-\\frac{1}{2}$. Sin embargo, $k$ es un número entero, así que hay que examinar su parte entera. Se puede demostrar, aunque es un tanto engorroso, que $k=\\left[\\frac{\\pi}{4\\theta}\\right]$\n",
        "\n",
        "<div class=\"alert alert-block alert-success\">\n",
        "<b> Ejercicio: </b>    Comprueba que en el límite $N\\gg 1 \\Rightarrow \\sin\\theta \\approx \\theta$,\n",
        "    <br>\n",
        "    \n",
        "$$ k \\approx \\frac{\\pi}{4}\\sqrt{\\frac{N}{d}} $$\n",
        "<br>\n",
        "</div>"
      ]
    },
    {
      "cell_type": "markdown",
      "id": "46b4f76a",
      "metadata": {
        "id": "46b4f76a"
      },
      "source": [
        "\n",
        "Esto supone un crecimiento $\\mathcal{O}(\\sqrt{N})$ en lugar de $\\mathcal{O}(N)$ que es lo que esperaríamos clásicamente.\n",
        "\n",
        "<div class=\"alert alert-block alert-info\">\n",
        "La manera intuitiva de entender por qué sucede esto es que en el límite $N>>1$, el ángulo $\\theta$ se hace pequeño por lo que el crecimiento de la <b>amplitud</b> se vuelve lineal, lo que implica que la probabilidad crezca cuadráticamente. Este truco se conoce como <b> amplificación de amplitud </b>.\n",
        "    \n",
        "</div>"
      ]
    },
    {
      "cell_type": "markdown",
      "id": "e634b63a",
      "metadata": {
        "id": "e634b63a"
      },
      "source": [
        "Podemos crear un código que implemente $k$ iteraciones de Grover"
      ]
    },
    {
      "cell_type": "code",
      "execution_count": null,
      "id": "44246a5f",
      "metadata": {
        "id": "44246a5f"
      },
      "outputs": [],
      "source": [
        "G_circuit = U_w_circuit.compose(diffusor_circuit)\n",
        "G = G_circuit.to_gate()\n",
        "G.name = \"$G$\""
      ]
    },
    {
      "cell_type": "code",
      "execution_count": null,
      "id": "84996b79",
      "metadata": {
        "id": "84996b79"
      },
      "outputs": [],
      "source": [
        "k = 2\n",
        "\n",
        "grover_circuit = s_circuit.copy()\n",
        "for _ in range(k):\n",
        "    grover_circuit.append(G, range(n))\n",
        "grover_circuit.measure_all()\n",
        "grover_circuit.draw('mpl')"
      ]
    },
    {
      "cell_type": "code",
      "execution_count": null,
      "id": "3df12d2e",
      "metadata": {
        "id": "3df12d2e"
      },
      "outputs": [],
      "source": [
        "def run_grover_algorithm(s_circuit, grover_circuit, k, shots=8192):\n",
        "    \"\"\"\n",
        "    Dados el circuito inicial y las puertas que implementan los operadores U_w y U_s,\n",
        "    Crea y ejecuta el circuito del algoritmo de Grover con k iteraciones\n",
        "    \"\"\"\n",
        "    grover_circuit = s_circuit.copy()\n",
        "    for _ in range(k):\n",
        "        grover_circuit.append(G, range(n))\n",
        "    grover_circuit.measure_all()\n",
        "\n",
        "    job = sampler.run([grover_circuit], shots=shots)\n",
        "    counts = job.result()[0].data.meas.get_counts()\n",
        "    prob_w = sum([counts[w] for w in w_list])/shots\n",
        "    return grover_circuit, counts, prob_w"
      ]
    },
    {
      "cell_type": "code",
      "execution_count": null,
      "id": "215dd39e",
      "metadata": {
        "id": "215dd39e"
      },
      "outputs": [],
      "source": [
        "k = 2\n",
        "grover_circuit, counts, prob_w = run_grover_algorithm(s_circuit, grover_circuit, k, shots=8092)\n",
        "print(r'La probabilidad de medir w es %f' % (prob_w))\n",
        "plot_histogram(counts)"
      ]
    },
    {
      "cell_type": "markdown",
      "id": "ac8f7784",
      "metadata": {
        "id": "ac8f7784"
      },
      "source": [
        "<div class=\"alert alert-block alert-success\">\n",
        "<b>Ejercicio:</b>\n",
        "    \n",
        "Comprueba que los resultados numéricos obtenidos al variar $k$ se corresponden con la expresión analítica a la que hemos llegado\n",
        "    \n",
        "$$P_{\\textit{w},k}=\\sin^2\\left[\\left(2k+1\\right)\\theta\\right].$$\n",
        "    \n",
        "Para ello, ejecuta la celda anterior para distintos valores de $k$ y anota las probabilidades obtenidas. Después crea una función que calcule el valor analítico de la probabilidad y representa los valores obtenidos para ver que coinciden. Si quieres también puedes hacer un test de $\\chi^2$."
      ]
    },
    {
      "cell_type": "code",
      "execution_count": null,
      "id": "004d20de",
      "metadata": {
        "id": "004d20de"
      },
      "outputs": [],
      "source": [
        "#### ========================================\n",
        "# Escribe tu solución aquí.\n",
        "k = np.array([])\n",
        "probs_numericas = np.array([])\n",
        "#### ========================================\n",
        "\n",
        "def prob_fun(k, n):\n",
        "    #### ========================================\n",
        "    # Escribe tu solución aquí.\n",
        "\n",
        "\n",
        "    #### ========================================\n",
        "    return prob"
      ]
    },
    {
      "cell_type": "code",
      "execution_count": null,
      "id": "3acb4abd",
      "metadata": {
        "id": "3acb4abd"
      },
      "outputs": [],
      "source": [
        "k_cont = np.linspace(0, 6, 100)\n",
        "\n",
        "plt.plot(k_cont, prob_fun(k_cont, n), color='teal', label='Valores analíticos en el continuo')\n",
        "plt.plot(k, probs_numericas, '*', color = 'teal', label='Valores obtenidos numéricamente')\n",
        "plt.xlabel('$k$')\n",
        "plt.legend()\n",
        "plt.ylabel(r'$P_{w,k}$')"
      ]
    },
    {
      "cell_type": "markdown",
      "id": "1349a614",
      "metadata": {
        "id": "1349a614"
      },
      "source": [
        "# Búsqueda Adaptativa de Grover"
      ]
    },
    {
      "cell_type": "markdown",
      "id": "4940d96c",
      "metadata": {
        "id": "4940d96c"
      },
      "source": [
        "Considérese una función de $n$ variables binarias $f : X \\rightarrow \\mathbb{R}$ con $X=\\left\\{0, 1\\right\\}^n$, el algoritmo de Grover permite encontrar el mínimo global $\\text{min}_{x\\in X}f(x)$."
      ]
    },
    {
      "cell_type": "markdown",
      "id": "dc0ecc75",
      "metadata": {
        "id": "dc0ecc75"
      },
      "source": [
        "La idea consiste en dado un valor $y$ utilizar la búsqueda de Grover para amplificar la probabilidad de medir los estados $x$ que satisfagan $f(x)<y$. Tras encontrar un valor $\\tilde{x}$ que cumpla esta condición, se redefine $y=f(\\tilde{x})$ y se repite el proceso hasta conseguir convergencia."
      ]
    },
    {
      "cell_type": "markdown",
      "id": "e39dd3bf",
      "metadata": {
        "id": "e39dd3bf"
      },
      "source": [
        "La manera de hacer esto es definir el estado inicial como\n",
        "\\begin{equation*}\n",
        "\\ket{s}=A_y\\ket{0}_n\\ket{0}_m=\\frac{1}{\\sqrt{N}}\\sum_{x=0}^{N-1}\\ket{x}_n\\ket{f(x)-y}_m\n",
        "\\end{equation*}"
      ]
    },
    {
      "cell_type": "markdown",
      "id": "48bf58c4",
      "metadata": {
        "id": "48bf58c4"
      },
      "source": [
        "Donde tenemos un primer registro de $n$ cúbits que representa los valores $\\ket{x}$ y un segundo registro de $m$ cúbits que represente los valores de $\\ket{f(x)-y}$."
      ]
    },
    {
      "cell_type": "markdown",
      "id": "431417c7",
      "metadata": {
        "id": "431417c7"
      },
      "source": [
        "Dado que el registro de $m$ cúbits tomará valores negativos, lo natural es adoptar una representación en la que uno de los cúbits reperesente el signo del número y el resto el valor numérico, de forma que con $m$ cúbits representaremos el intervalo $[-2^{m-1}, 2^m-1)$ en lugar de $[0, 2^m)$."
      ]
    },
    {
      "cell_type": "markdown",
      "id": "6b965ce3",
      "metadata": {
        "id": "6b965ce3"
      },
      "source": [
        "el oráculo sólamente tiene que marcar los estados que tomen valores negativos en el segundo registro\n",
        "\\begin{equation*}\n",
        "U_\\textit{w}=\\ket{x}_n\\ket{z}_m=\\text{sign}(z)\\ket{x}_n\\ket{z}_m\n",
        "\\end{equation*}\n"
      ]
    },
    {
      "cell_type": "markdown",
      "id": "d0b8ce6c",
      "metadata": {
        "id": "d0b8ce6c"
      },
      "source": [
        "Si bien este operador $U_\\textit{w}$ es trivial, la complejidad del problema está en la representación de $A_y$, que depende completamente de la función $f$.\n",
        "\n",
        "Para funciones arbitrariamente complicadas, la complejidad de implementar $A_y$ podría ser mayor que la de las iteraciones de Grover, con lo que se podría perder la ventaja cuántica."
      ]
    },
    {
      "cell_type": "markdown",
      "id": "68f9f336",
      "metadata": {
        "id": "68f9f336"
      },
      "source": [
        "<img src=\"https://github.com/JuanSanSu/TallerUSC_Grover/blob/main/logos/USC%20+%20MdM%20+%20CIGUS%20positive.png?raw=1\" align=left width='1000px'/>\n",
        "<br>"
      ]
    }
  ],
  "metadata": {
    "kernelspec": {
      "display_name": "Python 3 (ipykernel)",
      "language": "python",
      "name": "python3"
    },
    "language_info": {
      "codemirror_mode": {
        "name": "ipython",
        "version": 3
      },
      "file_extension": ".py",
      "mimetype": "text/x-python",
      "name": "python",
      "nbconvert_exporter": "python",
      "pygments_lexer": "ipython3",
      "version": "3.13.1"
    },
    "varInspector": {
      "cols": {
        "lenName": 16,
        "lenType": 16,
        "lenVar": 40
      },
      "kernels_config": {
        "python": {
          "delete_cmd_postfix": "",
          "delete_cmd_prefix": "del ",
          "library": "var_list.py",
          "varRefreshCmd": "print(var_dic_list())"
        },
        "r": {
          "delete_cmd_postfix": ") ",
          "delete_cmd_prefix": "rm(",
          "library": "var_list.r",
          "varRefreshCmd": "cat(var_dic_list()) "
        }
      },
      "types_to_exclude": [
        "module",
        "function",
        "builtin_function_or_method",
        "instance",
        "_Feature"
      ],
      "window_display": false
    },
    "colab": {
      "provenance": []
    }
  },
  "nbformat": 4,
  "nbformat_minor": 5
}